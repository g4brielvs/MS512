{
 "cells": [
  {
   "cell_type": "code",
   "execution_count": 7,
   "metadata": {
    "collapsed": true
   },
   "outputs": [],
   "source": [
    "import numpy as np\n",
    "import scipy.optimize as spo"
   ]
  },
  {
   "cell_type": "markdown",
   "metadata": {},
   "source": [
    "# Exercício 10.3.7 de Burden & Faires\n",
    "\n",
    "Considere o sistema não-linear,\n",
    "\\begin{equation*}\n",
    "    \\begin{array}{ccl} \n",
    "        3x_1 - \\cos(x_2 x_3) -\\frac{1}{2} & = & 0      \\\\\n",
    "        {x_1}^2 - 625{x_2}^2 -\\frac{1}{4} & = & 0      \\\\\n",
    "        \\exp(-x_1 x_2) + 20x_3 + \\frac{10\\pi -3}{3} & = & 0 \n",
    "    \\end{array}\n",
    "\\end{equation*} "
   ]
  },
  {
   "cell_type": "code",
   "execution_count": 8,
   "metadata": {
    "collapsed": false
   },
   "outputs": [],
   "source": [
    "def F(x):\n",
    "    x1, x2, x3 = x\n",
    "    return (3*x1 -np.cos(x2*x3)-1/2, x1**2 - 625*x2**2 -1/4, np.exp(-x1*x2) + 20*x3 + (10*np.pi-3)/3)"
   ]
  },
  {
   "cell_type": "code",
   "execution_count": 9,
   "metadata": {
    "collapsed": false
   },
   "outputs": [],
   "source": [
    "x0 = [1, 1, -1]\n",
    "tolerance = 1e-10"
   ]
  },
  {
   "cell_type": "code",
   "execution_count": 10,
   "metadata": {
    "collapsed": false
   },
   "outputs": [
    {
     "data": {
      "text/plain": [
       "array([  5.00000000e-01,   3.00271216e-07,  -5.23598768e-01])"
      ]
     },
     "execution_count": 10,
     "metadata": {},
     "output_type": "execute_result"
    }
   ],
   "source": [
    "#Find a root of a function, using Broyden’s first Jacobian approximation.\n",
    "sol1 = spo.broyden1(F, x0, f_tol=tolerance)\n",
    "sol1"
   ]
  },
  {
   "cell_type": "code",
   "execution_count": 11,
   "metadata": {
    "collapsed": false
   },
   "outputs": [
    {
     "data": {
      "text/plain": [
       "array([  5.00000000e-01,   2.73422728e-07,  -5.23598769e-01])"
      ]
     },
     "execution_count": 11,
     "metadata": {},
     "output_type": "execute_result"
    }
   ],
   "source": [
    "#Find a root of a function, using Broyden’s second Jacobian approximation.\n",
    "sol2 = spo.broyden2(F, x0, f_tol=tolerance)\n",
    "sol2"
   ]
  },
  {
   "cell_type": "code",
   "execution_count": 12,
   "metadata": {
    "collapsed": false
   },
   "outputs": [],
   "source": [
    "#Find a root of a function, using Krylov approximation for inverse Jacobian.\n",
    "#sol3 = sop.newton_krylov(F, x0, f_tol=tolerance)\n",
    "#sol3 = "
   ]
  },
  {
   "cell_type": "code",
   "execution_count": 13,
   "metadata": {
    "collapsed": true
   },
   "outputs": [],
   "source": [
    "#https://github.com/scipy/scipy/blob/master/scipy/optimize/nonlin.py"
   ]
  }
 ],
 "metadata": {
  "kernelspec": {
   "display_name": "Python 3",
   "language": "python",
   "name": "python3"
  },
  "language_info": {
   "codemirror_mode": {
    "name": "ipython",
    "version": 3
   },
   "file_extension": ".py",
   "mimetype": "text/x-python",
   "name": "python",
   "nbconvert_exporter": "python",
   "pygments_lexer": "ipython3",
   "version": "3.5.1"
  }
 },
 "nbformat": 4,
 "nbformat_minor": 0
}
